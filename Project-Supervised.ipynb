{
 "cells": [
  {
   "cell_type": "markdown",
   "id": "82a66eb7-49cf-474d-b70e-8b9356e938f7",
   "metadata": {},
   "source": [
    "# **Predicting Hiring Decisions in Recruitment Data**"
   ]
  },
  {
   "cell_type": "markdown",
   "id": "0cc88057-06b4-4e91-9377-ab354b6041f3",
   "metadata": {},
   "source": [
    "## *Problem Statement:*\n",
    "\n",
    "Develop a predictive model to decide who is competent or qualifies for the job.\n",
    "\n",
    "## **About the Dataset**\n",
    "\n",
    "There are 11 columns/features and 1.5k rows/samples.\n",
    "\n",
    "**Age**—20 to 50 years.\n",
    "\n",
    "**Gender**—Male (0) or Female (1).\n",
    "\n",
    "**Education Level**—Highest level of education attained by the candidate. 1: Bachelor's (Type 1), 2: Bachelor's (Type 2), 3: Masters, 4:PhD\n",
    "\n",
    "**Experience Year**_dNumber of years of professional experience.(0 to 15 years).\n",
    "\n",
    "**Distance From Company**_Distance in kilometers from the candidate's residence to the hiring company.(1 to 50 kilometers).\n",
    "\n",
    "**Interview Score**_Score achieved by the candidate in the interview process.(0 to 100).\n",
    "\n",
    "**Skill Score**_Assessment score of the candidate's technical skills.(0 to 100).\n",
    "\n",
    "**Personality Score**_Evaluation score of the candidate's personality traits.(0 to 100).\n",
    "\n",
    "**Recruitment Strategy**_Strategy adopted by the hiring team for recruitment. (1: Aggressive, 2: Moderate, \n",
    "3:Conservative)\n",
    "\n",
    "**Hiring Decision (Target Variable)**_Outcome of the hiring decision. (0: Not hired,1: Hire).\n"
   ]
  },
  {
   "cell_type": "code",
   "execution_count": 191,
   "id": "2c1f3f6e-d101-4bac-b2a4-1bb6106def08",
   "metadata": {},
   "outputs": [],
   "source": [
    "import pandas as pd\n",
    "import matplotlib.pyplot as plt\n",
    "import numpy as np\n",
    "import seaborn as sns\n",
    "import statsmodels.api as sm\n",
    "from sklearn.preprocessing import LabelEncoder, MinMaxScaler\n",
    "from sklearn.model_selection import train_test_split\n",
    "from sklearn.neighbors import KNeighborsClassifier\n",
    "from sklearn.metrics import classification_report, confusion_matrix, accuracy_score,roc_auc_score , ConfusionMatrixDisplay\n",
    "from sklearn.svm import SVC\n",
    "import joblib\n",
    "from sklearn.linear_model import LogisticRegression\n",
    "from sklearn.ensemble import RandomForestClassifier\n",
    "from sklearn.tree import DecisionTreeClassifier\n",
    "import pandas as pd\n",
    "import warnings\n",
    "warnings.filterwarnings('ignore')"
   ]
  },
  {
   "cell_type": "code",
   "execution_count": 192,
   "id": "bd66f8dc-0e1c-4005-93e8-546790d25f9b",
   "metadata": {},
   "outputs": [
    {
     "data": {
      "text/html": [
       "<div>\n",
       "<style scoped>\n",
       "    .dataframe tbody tr th:only-of-type {\n",
       "        vertical-align: middle;\n",
       "    }\n",
       "\n",
       "    .dataframe tbody tr th {\n",
       "        vertical-align: top;\n",
       "    }\n",
       "\n",
       "    .dataframe thead th {\n",
       "        text-align: right;\n",
       "    }\n",
       "</style>\n",
       "<table border=\"1\" class=\"dataframe\">\n",
       "  <thead>\n",
       "    <tr style=\"text-align: right;\">\n",
       "      <th></th>\n",
       "      <th>Age</th>\n",
       "      <th>Gender</th>\n",
       "      <th>EducationLevel</th>\n",
       "      <th>ExperienceYears</th>\n",
       "      <th>PreviousCompanies</th>\n",
       "      <th>DistanceFromCompany</th>\n",
       "      <th>InterviewScore</th>\n",
       "      <th>SkillScore</th>\n",
       "      <th>PersonalityScore</th>\n",
       "      <th>RecruitmentStrategy</th>\n",
       "      <th>HiringDecision</th>\n",
       "    </tr>\n",
       "  </thead>\n",
       "  <tbody>\n",
       "    <tr>\n",
       "      <th>0</th>\n",
       "      <td>26</td>\n",
       "      <td>1</td>\n",
       "      <td>2</td>\n",
       "      <td>0</td>\n",
       "      <td>3</td>\n",
       "      <td>26.783828</td>\n",
       "      <td>48</td>\n",
       "      <td>78</td>\n",
       "      <td>91</td>\n",
       "      <td>1</td>\n",
       "      <td>1</td>\n",
       "    </tr>\n",
       "    <tr>\n",
       "      <th>1</th>\n",
       "      <td>39</td>\n",
       "      <td>1</td>\n",
       "      <td>4</td>\n",
       "      <td>12</td>\n",
       "      <td>3</td>\n",
       "      <td>25.862694</td>\n",
       "      <td>35</td>\n",
       "      <td>68</td>\n",
       "      <td>80</td>\n",
       "      <td>2</td>\n",
       "      <td>1</td>\n",
       "    </tr>\n",
       "    <tr>\n",
       "      <th>2</th>\n",
       "      <td>48</td>\n",
       "      <td>0</td>\n",
       "      <td>2</td>\n",
       "      <td>3</td>\n",
       "      <td>2</td>\n",
       "      <td>9.920805</td>\n",
       "      <td>20</td>\n",
       "      <td>67</td>\n",
       "      <td>13</td>\n",
       "      <td>2</td>\n",
       "      <td>0</td>\n",
       "    </tr>\n",
       "    <tr>\n",
       "      <th>3</th>\n",
       "      <td>34</td>\n",
       "      <td>1</td>\n",
       "      <td>2</td>\n",
       "      <td>5</td>\n",
       "      <td>2</td>\n",
       "      <td>6.407751</td>\n",
       "      <td>36</td>\n",
       "      <td>27</td>\n",
       "      <td>70</td>\n",
       "      <td>3</td>\n",
       "      <td>0</td>\n",
       "    </tr>\n",
       "    <tr>\n",
       "      <th>4</th>\n",
       "      <td>30</td>\n",
       "      <td>0</td>\n",
       "      <td>1</td>\n",
       "      <td>6</td>\n",
       "      <td>1</td>\n",
       "      <td>43.105343</td>\n",
       "      <td>23</td>\n",
       "      <td>52</td>\n",
       "      <td>85</td>\n",
       "      <td>2</td>\n",
       "      <td>0</td>\n",
       "    </tr>\n",
       "    <tr>\n",
       "      <th>...</th>\n",
       "      <td>...</td>\n",
       "      <td>...</td>\n",
       "      <td>...</td>\n",
       "      <td>...</td>\n",
       "      <td>...</td>\n",
       "      <td>...</td>\n",
       "      <td>...</td>\n",
       "      <td>...</td>\n",
       "      <td>...</td>\n",
       "      <td>...</td>\n",
       "      <td>...</td>\n",
       "    </tr>\n",
       "    <tr>\n",
       "      <th>1495</th>\n",
       "      <td>48</td>\n",
       "      <td>0</td>\n",
       "      <td>2</td>\n",
       "      <td>3</td>\n",
       "      <td>4</td>\n",
       "      <td>9.183783</td>\n",
       "      <td>66</td>\n",
       "      <td>3</td>\n",
       "      <td>80</td>\n",
       "      <td>3</td>\n",
       "      <td>1</td>\n",
       "    </tr>\n",
       "    <tr>\n",
       "      <th>1496</th>\n",
       "      <td>27</td>\n",
       "      <td>1</td>\n",
       "      <td>2</td>\n",
       "      <td>10</td>\n",
       "      <td>3</td>\n",
       "      <td>14.847731</td>\n",
       "      <td>43</td>\n",
       "      <td>97</td>\n",
       "      <td>7</td>\n",
       "      <td>2</td>\n",
       "      <td>0</td>\n",
       "    </tr>\n",
       "    <tr>\n",
       "      <th>1497</th>\n",
       "      <td>24</td>\n",
       "      <td>1</td>\n",
       "      <td>1</td>\n",
       "      <td>1</td>\n",
       "      <td>2</td>\n",
       "      <td>4.289911</td>\n",
       "      <td>31</td>\n",
       "      <td>91</td>\n",
       "      <td>58</td>\n",
       "      <td>1</td>\n",
       "      <td>1</td>\n",
       "    </tr>\n",
       "    <tr>\n",
       "      <th>1498</th>\n",
       "      <td>48</td>\n",
       "      <td>0</td>\n",
       "      <td>2</td>\n",
       "      <td>4</td>\n",
       "      <td>4</td>\n",
       "      <td>36.299263</td>\n",
       "      <td>9</td>\n",
       "      <td>37</td>\n",
       "      <td>44</td>\n",
       "      <td>2</td>\n",
       "      <td>1</td>\n",
       "    </tr>\n",
       "    <tr>\n",
       "      <th>1499</th>\n",
       "      <td>34</td>\n",
       "      <td>1</td>\n",
       "      <td>2</td>\n",
       "      <td>11</td>\n",
       "      <td>5</td>\n",
       "      <td>12.910472</td>\n",
       "      <td>63</td>\n",
       "      <td>40</td>\n",
       "      <td>26</td>\n",
       "      <td>2</td>\n",
       "      <td>1</td>\n",
       "    </tr>\n",
       "  </tbody>\n",
       "</table>\n",
       "<p>1500 rows × 11 columns</p>\n",
       "</div>"
      ],
      "text/plain": [
       "      Age  Gender  EducationLevel  ExperienceYears  PreviousCompanies  \\\n",
       "0      26       1               2                0                  3   \n",
       "1      39       1               4               12                  3   \n",
       "2      48       0               2                3                  2   \n",
       "3      34       1               2                5                  2   \n",
       "4      30       0               1                6                  1   \n",
       "...   ...     ...             ...              ...                ...   \n",
       "1495   48       0               2                3                  4   \n",
       "1496   27       1               2               10                  3   \n",
       "1497   24       1               1                1                  2   \n",
       "1498   48       0               2                4                  4   \n",
       "1499   34       1               2               11                  5   \n",
       "\n",
       "      DistanceFromCompany  InterviewScore  SkillScore  PersonalityScore  \\\n",
       "0               26.783828              48          78                91   \n",
       "1               25.862694              35          68                80   \n",
       "2                9.920805              20          67                13   \n",
       "3                6.407751              36          27                70   \n",
       "4               43.105343              23          52                85   \n",
       "...                   ...             ...         ...               ...   \n",
       "1495             9.183783              66           3                80   \n",
       "1496            14.847731              43          97                 7   \n",
       "1497             4.289911              31          91                58   \n",
       "1498            36.299263               9          37                44   \n",
       "1499            12.910472              63          40                26   \n",
       "\n",
       "      RecruitmentStrategy  HiringDecision  \n",
       "0                       1               1  \n",
       "1                       2               1  \n",
       "2                       2               0  \n",
       "3                       3               0  \n",
       "4                       2               0  \n",
       "...                   ...             ...  \n",
       "1495                    3               1  \n",
       "1496                    2               0  \n",
       "1497                    1               1  \n",
       "1498                    2               1  \n",
       "1499                    2               1  \n",
       "\n",
       "[1500 rows x 11 columns]"
      ]
     },
     "execution_count": 192,
     "metadata": {},
     "output_type": "execute_result"
    }
   ],
   "source": [
    "#Load dataset\n",
    "df = pd.read_csv(\"recruitment_data.csv\")\n",
    "df"
   ]
  },
  {
   "cell_type": "code",
   "execution_count": 193,
   "id": "8323abad-f159-430e-a8d3-88d80dd21ec7",
   "metadata": {},
   "outputs": [
    {
     "name": "stdout",
     "output_type": "stream",
     "text": [
      "<class 'pandas.core.frame.DataFrame'>\n",
      "RangeIndex: 1500 entries, 0 to 1499\n",
      "Data columns (total 11 columns):\n",
      " #   Column               Non-Null Count  Dtype  \n",
      "---  ------               --------------  -----  \n",
      " 0   Age                  1500 non-null   int64  \n",
      " 1   Gender               1500 non-null   int64  \n",
      " 2   EducationLevel       1500 non-null   int64  \n",
      " 3   ExperienceYears      1500 non-null   int64  \n",
      " 4   PreviousCompanies    1500 non-null   int64  \n",
      " 5   DistanceFromCompany  1500 non-null   float64\n",
      " 6   InterviewScore       1500 non-null   int64  \n",
      " 7   SkillScore           1500 non-null   int64  \n",
      " 8   PersonalityScore     1500 non-null   int64  \n",
      " 9   RecruitmentStrategy  1500 non-null   int64  \n",
      " 10  HiringDecision       1500 non-null   int64  \n",
      "dtypes: float64(1), int64(10)\n",
      "memory usage: 129.0 KB\n"
     ]
    }
   ],
   "source": [
    "df.info()"
   ]
  },
  {
   "cell_type": "code",
   "execution_count": 194,
   "id": "048b34d0-5ea8-4bdc-b96f-c56916f01f58",
   "metadata": {},
   "outputs": [
    {
     "data": {
      "text/html": [
       "<div>\n",
       "<style scoped>\n",
       "    .dataframe tbody tr th:only-of-type {\n",
       "        vertical-align: middle;\n",
       "    }\n",
       "\n",
       "    .dataframe tbody tr th {\n",
       "        vertical-align: top;\n",
       "    }\n",
       "\n",
       "    .dataframe thead th {\n",
       "        text-align: right;\n",
       "    }\n",
       "</style>\n",
       "<table border=\"1\" class=\"dataframe\">\n",
       "  <thead>\n",
       "    <tr style=\"text-align: right;\">\n",
       "      <th></th>\n",
       "      <th>Age</th>\n",
       "      <th>Gender</th>\n",
       "      <th>EducationLevel</th>\n",
       "      <th>ExperienceYears</th>\n",
       "      <th>PreviousCompanies</th>\n",
       "      <th>DistanceFromCompany</th>\n",
       "      <th>InterviewScore</th>\n",
       "      <th>SkillScore</th>\n",
       "      <th>PersonalityScore</th>\n",
       "      <th>RecruitmentStrategy</th>\n",
       "      <th>HiringDecision</th>\n",
       "    </tr>\n",
       "  </thead>\n",
       "  <tbody>\n",
       "    <tr>\n",
       "      <th>0</th>\n",
       "      <td>26</td>\n",
       "      <td>1</td>\n",
       "      <td>2</td>\n",
       "      <td>0</td>\n",
       "      <td>3</td>\n",
       "      <td>26.783828</td>\n",
       "      <td>48</td>\n",
       "      <td>78</td>\n",
       "      <td>91</td>\n",
       "      <td>1</td>\n",
       "      <td>1</td>\n",
       "    </tr>\n",
       "    <tr>\n",
       "      <th>1</th>\n",
       "      <td>39</td>\n",
       "      <td>1</td>\n",
       "      <td>4</td>\n",
       "      <td>12</td>\n",
       "      <td>3</td>\n",
       "      <td>25.862694</td>\n",
       "      <td>35</td>\n",
       "      <td>68</td>\n",
       "      <td>80</td>\n",
       "      <td>2</td>\n",
       "      <td>1</td>\n",
       "    </tr>\n",
       "    <tr>\n",
       "      <th>2</th>\n",
       "      <td>48</td>\n",
       "      <td>0</td>\n",
       "      <td>2</td>\n",
       "      <td>3</td>\n",
       "      <td>2</td>\n",
       "      <td>9.920805</td>\n",
       "      <td>20</td>\n",
       "      <td>67</td>\n",
       "      <td>13</td>\n",
       "      <td>2</td>\n",
       "      <td>0</td>\n",
       "    </tr>\n",
       "    <tr>\n",
       "      <th>3</th>\n",
       "      <td>34</td>\n",
       "      <td>1</td>\n",
       "      <td>2</td>\n",
       "      <td>5</td>\n",
       "      <td>2</td>\n",
       "      <td>6.407751</td>\n",
       "      <td>36</td>\n",
       "      <td>27</td>\n",
       "      <td>70</td>\n",
       "      <td>3</td>\n",
       "      <td>0</td>\n",
       "    </tr>\n",
       "    <tr>\n",
       "      <th>4</th>\n",
       "      <td>30</td>\n",
       "      <td>0</td>\n",
       "      <td>1</td>\n",
       "      <td>6</td>\n",
       "      <td>1</td>\n",
       "      <td>43.105343</td>\n",
       "      <td>23</td>\n",
       "      <td>52</td>\n",
       "      <td>85</td>\n",
       "      <td>2</td>\n",
       "      <td>0</td>\n",
       "    </tr>\n",
       "  </tbody>\n",
       "</table>\n",
       "</div>"
      ],
      "text/plain": [
       "   Age  Gender  EducationLevel  ExperienceYears  PreviousCompanies  \\\n",
       "0   26       1               2                0                  3   \n",
       "1   39       1               4               12                  3   \n",
       "2   48       0               2                3                  2   \n",
       "3   34       1               2                5                  2   \n",
       "4   30       0               1                6                  1   \n",
       "\n",
       "   DistanceFromCompany  InterviewScore  SkillScore  PersonalityScore  \\\n",
       "0            26.783828              48          78                91   \n",
       "1            25.862694              35          68                80   \n",
       "2             9.920805              20          67                13   \n",
       "3             6.407751              36          27                70   \n",
       "4            43.105343              23          52                85   \n",
       "\n",
       "   RecruitmentStrategy  HiringDecision  \n",
       "0                    1               1  \n",
       "1                    2               1  \n",
       "2                    2               0  \n",
       "3                    3               0  \n",
       "4                    2               0  "
      ]
     },
     "execution_count": 194,
     "metadata": {},
     "output_type": "execute_result"
    }
   ],
   "source": [
    "df.head()"
   ]
  },
  {
   "cell_type": "markdown",
   "id": "9bf824d3-d5bb-42fd-9d32-b5a88b620ae8",
   "metadata": {},
   "source": [
    "#### Since there are no missing data, we continue with data visualization"
   ]
  },
  {
   "cell_type": "markdown",
   "id": "6f7b7209-4349-4569-ad4b-7cb8ba266334",
   "metadata": {},
   "source": [
    "## Data Visualization"
   ]
  },
  {
   "cell_type": "code",
   "execution_count": 195,
   "id": "d136d5db-04dc-466f-a192-1d59aabfb3e4",
   "metadata": {},
   "outputs": [
    {
     "data": {
      "image/png": "[encoded data removed]",
      "text/plain": [
       "<Figure size 1000x600 with 2 Axes>"
      ]
     },
     "metadata": {},
     "output_type": "display_data"
    }
   ],
   "source": [
    "# Correlation heatmap\n",
    "plt.figure(figsize=(10, 6))\n",
    "corr_matrix = df.corr()\n",
    "heatmap = sns.heatmap(corr_matrix, annot=True, fmt=\".2f\", cmap=\"coolwarm\", vmin=-1, vmax=1)\n",
    "plt.title(\"Correlation Heatmap\")\n",
    "plt.show()\n"
   ]
  },
  {
   "cell_type": "code",
   "execution_count": 196,
   "id": "3efab0b6-b5c3-4aa9-8669-62b1f13f9b0d",
   "metadata": {},
   "outputs": [],
   "source": [
    "# Select relevant features and target variable\n",
    "X =df.drop(columns=['HiringDecision'])\n",
    "y = df['HiringDecision']"
   ]
  },
  {
   "cell_type": "code",
   "execution_count": 197,
   "id": "425a519d-a927-4064-a9ca-245e87a2d8fe",
   "metadata": {},
   "outputs": [],
   "source": [
    "# Split the data into training and testing sets\n",
    "X_train, X_test, y_train, y_test = train_test_split(X, y, test_size=0.25, random_state=42)"
   ]
  },
  {
   "cell_type": "code",
   "execution_count": 198,
   "id": "e8fd271b-3b96-4423-9c3d-f629bb48ae18",
   "metadata": {},
   "outputs": [
    {
     "name": "stdout",
     "output_type": "stream",
     "text": [
      "Optimization terminated successfully.\n",
      "         Current function value: 0.359713\n",
      "         Iterations 7\n"
     ]
    }
   ],
   "source": [
    "# Fit the logistic regression model\n",
    "logit_model = sm.Logit(y_train, sm.add_constant(X_train))\n",
    "result = logit_model.fit()\n"
   ]
  },
  {
   "cell_type": "code",
   "execution_count": 199,
   "id": "31187ad3-4059-45fc-9ad1-b07c3a84ca07",
   "metadata": {},
   "outputs": [
    {
     "name": "stdout",
     "output_type": "stream",
     "text": [
      "1116    0.596026\n",
      "1368    0.044436\n",
      "422     0.691685\n",
      "413     0.021551\n",
      "451     0.004699\n",
      "          ...   \n",
      "155     0.036133\n",
      "1151    0.398110\n",
      "1141    0.005997\n",
      "974     0.082292\n",
      "1057    0.614812\n",
      "Length: 375, dtype: float64\n"
     ]
    }
   ],
   "source": [
    "# Make predictions and evaluate the model\n",
    "predictions = result.predict(sm.add_constant(X_test))\n",
    "print(predictions)"
   ]
  },
  {
   "cell_type": "code",
   "execution_count": 200,
   "id": "3b6c14db-0a88-4953-8f77-e0061a10fee3",
   "metadata": {},
   "outputs": [
    {
     "name": "stdout",
     "output_type": "stream",
     "text": [
      "1116    1\n",
      "1368    0\n",
      "422     1\n",
      "413     0\n",
      "451     0\n",
      "       ..\n",
      "155     0\n",
      "1151    0\n",
      "1141    0\n",
      "974     0\n",
      "1057    1\n",
      "Length: 375, dtype: int32\n"
     ]
    }
   ],
   "source": [
    "# Make predictions on the test set\n",
    "predictions_binary = (predictions > 0.5).astype(int)\n",
    "print (predictions_binary)"
   ]
  },
  {
   "cell_type": "code",
   "execution_count": 201,
   "id": "ca9e30da-41a0-42e9-bcfb-c4991cc5a1f7",
   "metadata": {},
   "outputs": [
    {
     "name": "stdout",
     "output_type": "stream",
     "text": [
      "0.864\n"
     ]
    }
   ],
   "source": [
    "# Evaluate the model\n",
    "log_accuracy = accuracy_score(y_test, predictions_binary)\n",
    "log_accuracy_round = np.round(log_accuracy, 3)\n",
    "print(log_accuracy)"
   ]
  },
  {
   "cell_type": "code",
   "execution_count": 202,
   "id": "c3764867-858d-43c2-8cc0-d5362114ac70",
   "metadata": {},
   "outputs": [
    {
     "data": {
      "image/png": "[encoded data removed]",
      "text/plain": [
       "<Figure size 640x480 with 2 Axes>"
      ]
     },
     "metadata": {},
     "output_type": "display_data"
    }
   ],
   "source": [
    "#Create a Confusion Matrix\n",
    "#Train a Logistic Regression Classifier\n",
    "clf = LogisticRegression(max_iter=200, random_state=42)\n",
    "clf.fit(X_train, y_train)\n",
    "\n",
    "#Generate Predictions\n",
    "y_pred = clf.predict(X_test)\n",
    "\n",
    "#Create a Confusion Matrix\n",
    "cm = confusion_matrix(y_test, y_pred, labels=clf.classes_)\n",
    "\n",
    "#Visualize the Confusion Matrix\n",
    "disp = ConfusionMatrixDisplay(confusion_matrix=cm)\n",
    "disp.plot(cmap=plt.cm.Blues)\n",
    "plt.title('Confusion Matrix - Logistic Regression')\n",
    "plt.show()"
   ]
  },
  {
   "cell_type": "markdown",
   "id": "18145936-2271-46c5-8700-733a0dde412a",
   "metadata": {},
   "source": [
    "### **Saving the Model using Joblib**"
   ]
  },
  {
   "cell_type": "code",
   "execution_count": 203,
   "id": "21cb69a0-f0eb-4866-a56d-63a6b02da717",
   "metadata": {},
   "outputs": [
    {
     "data": {
      "text/plain": [
       "['logistic_regression_model.joblib']"
      ]
     },
     "execution_count": 203,
     "metadata": {},
     "output_type": "execute_result"
    }
   ],
   "source": [
    "# Save the model to a file\n",
    "joblib_file = 'logistic_regression_model.joblib'\n",
    "joblib.dump(clf,joblib_file)"
   ]
  },
  {
   "cell_type": "markdown",
   "id": "579c2c80-0ed7-4a33-b6ee-f092de6cf438",
   "metadata": {},
   "source": [
    "**Scaling variables for better accuracy**"
   ]
  },
  {
   "cell_type": "code",
   "execution_count": 204,
   "id": "b7ff179d-4565-4f26-8678-9e46576d435a",
   "metadata": {},
   "outputs": [
    {
     "name": "stdout",
     "output_type": "stream",
     "text": [
      "Logistic Regression Model accuracy after scaling: 0.8693333333333333\n"
     ]
    },
    {
     "data": {
      "image/png": "[encoded data removed]",
      "text/plain": [
       "<Figure size 640x480 with 2 Axes>"
      ]
     },
     "metadata": {},
     "output_type": "display_data"
    }
   ],
   "source": [
    "from sklearn.preprocessing import MinMaxScaler\n",
    "\n",
    "# Initialize the MinMaxScaler\n",
    "scaler = MinMaxScaler()\n",
    "\n",
    "# Fit the scaler on the training data and transform both training and testing data\n",
    "X_train_scaled = scaler.fit_transform(X_train)\n",
    "X_test_scaled = scaler.transform(X_test)\n",
    "\n",
    "# Train the Logistic Regression model on the scaled data\n",
    "clf = LogisticRegression(max_iter=200, random_state=42)\n",
    "clf.fit(X_train_scaled, y_train)\n",
    "\n",
    "# Generate Predictions\n",
    "y_pred = clf.predict(X_test_scaled)\n",
    "\n",
    "\n",
    "# Evaluate the model\n",
    "after_scaling = accuracy_score(y_test, y_pred)\n",
    "after_scaling_round = np.round(after_scaling, 3)\n",
    "print(f'Logistic Regression Model accuracy after scaling: {after_scaling}')\n",
    "\n",
    "# Create a Confusion Matrix\n",
    "cm = confusion_matrix(y_test, y_pred, labels=clf.classes_)\n",
    "\n",
    "#Visualize the Confusion Matrix\n",
    "disp = ConfusionMatrixDisplay(confusion_matrix=cm)\n",
    "disp.plot(cmap=plt.cm.Blues)\n",
    "plt.title('Confusion Matrix - Logistic Regression')\n",
    "plt.show()\n"
   ]
  },
  {
   "cell_type": "markdown",
   "id": "31a9dbb3-d598-4e10-a60a-0d74a9632c89",
   "metadata": {},
   "source": [
    "# **Using KNN approach**"
   ]
  },
  {
   "cell_type": "code",
   "execution_count": 205,
   "id": "9f123daf-2538-4579-9e88-22fbee17fd67",
   "metadata": {},
   "outputs": [
    {
     "name": "stdout",
     "output_type": "stream",
     "text": [
      "Model accuracy: 0.6966666666666667\n",
      "[[195  16]\n",
      " [ 75  14]]\n",
      "              precision    recall  f1-score   support\n",
      "\n",
      "           0       0.72      0.92      0.81       211\n",
      "           1       0.47      0.16      0.24        89\n",
      "\n",
      "    accuracy                           0.70       300\n",
      "   macro avg       0.59      0.54      0.52       300\n",
      "weighted avg       0.65      0.70      0.64       300\n",
      "\n"
     ]
    },
    {
     "data": {
      "text/plain": [
       "['knn_model.pkl']"
      ]
     },
     "execution_count": 205,
     "metadata": {},
     "output_type": "execute_result"
    }
   ],
   "source": [
    "from sklearn.neighbors import KNeighborsClassifier\n",
    "from sklearn.preprocessing import LabelEncoder\n",
    "\n",
    "\n",
    "# Split data\n",
    "train_X, val_X, train_y, val_y = train_test_split(X, y, random_state=0, test_size=0.2)\n",
    "\n",
    "# Train model\n",
    "model = KNeighborsClassifier(n_neighbors=2, metric='euclidean', weights='uniform', algorithm='auto', leaf_size=50, p=2)\n",
    "model.fit(train_X, train_y)\n",
    "\n",
    "# Evaluate model\n",
    "val_prediction = model.predict(val_X)\n",
    "y_pred_proba = model.predict_proba(val_X)[:,1]\n",
    "knn_accuracy = accuracy_score(val_y, val_prediction)\n",
    "knn_accuracy_round = np.round(knn_accuracy, 3)\n",
    "print(f'Model accuracy: {knn_accuracy}')\n",
    "\n",
    "print(confusion_matrix(val_y, val_prediction))\n",
    "print(classification_report(val_y, val_prediction))\n",
    "\n",
    "# auc = roc_auc_score(val_y, y_pred_proba)\n",
    "# print(auc)\n",
    "\n",
    "# Save model\n",
    "joblib.dump(model, 'knn_model.pkl')"
   ]
  },
  {
   "cell_type": "markdown",
   "id": "47345804-fb1b-4df3-878e-263d041c4b0b",
   "metadata": {},
   "source": [
    "# **Using DecisionTree approach**"
   ]
  },
  {
   "cell_type": "code",
   "execution_count": 206,
   "id": "67a51aab-3cda-4d57-a489-0ed19ab4c3b1",
   "metadata": {},
   "outputs": [
    {
     "name": "stdout",
     "output_type": "stream",
     "text": [
      "Model accuracy: 0.8733333333333333\n",
      "[[193  18]\n",
      " [ 20  69]]\n",
      "              precision    recall  f1-score   support\n",
      "\n",
      "           0       0.91      0.91      0.91       211\n",
      "           1       0.79      0.78      0.78        89\n",
      "\n",
      "    accuracy                           0.87       300\n",
      "   macro avg       0.85      0.84      0.85       300\n",
      "weighted avg       0.87      0.87      0.87       300\n",
      "\n"
     ]
    },
    {
     "data": {
      "text/plain": [
       "['decision_model.pkl']"
      ]
     },
     "execution_count": 206,
     "metadata": {},
     "output_type": "execute_result"
    }
   ],
   "source": [
    "# Split data\n",
    "train_X, val_X, train_y, val_y = train_test_split(X, y, random_state=0, test_size=0.2)\n",
    "\n",
    "# Train model\n",
    "model = DecisionTreeClassifier(random_state=0)\n",
    "model.fit(train_X, train_y)\n",
    "\n",
    "# Evaluate model\n",
    "val_prediction = model.predict(val_X)\n",
    "y_pred_proba = model.predict_proba(val_X)[:,1]\n",
    "decision_accuracy = accuracy_score(val_y, val_prediction)\n",
    "decision_accuracy_round = np.round(decision_accuracy, 3)\n",
    "print(f'Model accuracy: {decision_accuracy}')\n",
    "\n",
    "print(confusion_matrix(val_y, val_prediction))\n",
    "print(classification_report(val_y, val_prediction))\n",
    "\n",
    "# auc = roc_auc_score(val_y, y_pred_proba)\n",
    "# print(auc)\n",
    "\n",
    "# Save model\n",
    "joblib.dump(model, 'decision_model.pkl')\n"
   ]
  },
  {
   "cell_type": "markdown",
   "id": "f52fe54c-529b-4ada-919b-acb94428789f",
   "metadata": {},
   "source": [
    "# **Using RandomForest approach**"
   ]
  },
  {
   "cell_type": "code",
   "execution_count": 207,
   "id": "c5dc8c75-f451-46fd-bcb0-0551a6a9330f",
   "metadata": {},
   "outputs": [
    {
     "name": "stdout",
     "output_type": "stream",
     "text": [
      "Model accuracy: 0.9066666666666666\n",
      "[[200  11]\n",
      " [ 17  72]]\n",
      "              precision    recall  f1-score   support\n",
      "\n",
      "           0       0.92      0.95      0.93       211\n",
      "           1       0.87      0.81      0.84        89\n",
      "\n",
      "    accuracy                           0.91       300\n",
      "   macro avg       0.89      0.88      0.89       300\n",
      "weighted avg       0.91      0.91      0.91       300\n",
      "\n"
     ]
    },
    {
     "data": {
      "text/plain": [
       "['random_model.pkl']"
      ]
     },
     "execution_count": 207,
     "metadata": {},
     "output_type": "execute_result"
    }
   ],
   "source": [
    "# Split data\n",
    "train_X, val_X, train_y, val_y = train_test_split(X, y, random_state=0, test_size=0.2)\n",
    "\n",
    "# Train model\n",
    "model = RandomForestClassifier(random_state=0)\n",
    "model.fit(train_X, train_y)\n",
    "\n",
    "# Evaluate model\n",
    "val_prediction = model.predict(val_X)\n",
    "y_pred_proba = model.predict_proba(val_X)[:,1]\n",
    "rd_accuracy = accuracy_score(val_y, val_prediction)\n",
    "rd_accuracy_round = np.round(rd_accuracy, 3)\n",
    "print(f'Model accuracy: {rd_accuracy}')\n",
    "\n",
    "print(confusion_matrix(val_y, val_prediction))\n",
    "print(classification_report(val_y, val_prediction))\n",
    "\n",
    "# auc = roc_auc_score(val_y, y_pred_proba)\n",
    "# print(auc)\n",
    "\n",
    "# Save model\n",
    "joblib.dump(model, 'random_model.pkl')\n"
   ]
  },
  {
   "cell_type": "markdown",
   "id": "9d10c358-e36b-4e0f-b8e9-75636d3a3c00",
   "metadata": {},
   "source": [
    "# **Using SVC approach**"
   ]
  },
  {
   "cell_type": "code",
   "execution_count": 208,
   "id": "700d7c92-6a71-4e76-a004-0fca9c80a868",
   "metadata": {},
   "outputs": [
    {
     "name": "stdout",
     "output_type": "stream",
     "text": [
      "Model accuracy: 0.7166666666666667\n",
      "[[203   8]\n",
      " [ 77  12]]\n",
      "              precision    recall  f1-score   support\n",
      "\n",
      "           0       0.72      0.96      0.83       211\n",
      "           1       0.60      0.13      0.22        89\n",
      "\n",
      "    accuracy                           0.72       300\n",
      "   macro avg       0.66      0.55      0.52       300\n",
      "weighted avg       0.69      0.72      0.65       300\n",
      "\n"
     ]
    },
    {
     "data": {
      "text/plain": [
       "['svc_model.pkl']"
      ]
     },
     "execution_count": 208,
     "metadata": {},
     "output_type": "execute_result"
    }
   ],
   "source": [
    "# Split data\n",
    "train_X, val_X, train_y, val_y = train_test_split(X, y, random_state=0, test_size=0.2)\n",
    "\n",
    "# Train model\n",
    "model = SVC(probability=True,random_state=0)\n",
    "model.fit(train_X, train_y)\n",
    "\n",
    "# Evaluate model\n",
    "val_prediction = model.predict(val_X)\n",
    "y_pred_proba = model.predict_proba(val_X)[:,1]\n",
    "svc_accuracy = accuracy_score(val_y, val_prediction)\n",
    "svc_accuracy_round = np.round(svc_accuracy, 3)\n",
    "print(f'Model accuracy: {svc_accuracy}')\n",
    "\n",
    "print(confusion_matrix(val_y, val_prediction))\n",
    "print(classification_report(val_y, val_prediction))\n",
    "\n",
    "# auc = roc_auc_score(val_y, y_pred_proba)\n",
    "# print(auc)\n",
    "\n",
    "# Save model\n",
    "joblib.dump(model, 'svc_model.pkl')"
   ]
  },
  {
   "cell_type": "markdown",
   "id": "f818e6b8-6c95-4885-aedd-89920cd53481",
   "metadata": {},
   "source": [
    "  # SUMMARY"
   ]
  },
  {
   "cell_type": "code",
   "execution_count": 209,
   "id": "686025e1-756e-4402-b756-3b3da8c7452d",
   "metadata": {},
   "outputs": [
    {
     "name": "stdout",
     "output_type": "stream",
     "text": [
      "Logistic Regression Model accuracy: 0.864\n",
      "Logistic Regression Model accuracy after scaling: 0.869\n",
      "K-Nearest Neighbors (KNN) Model accuracy: 0.697\n",
      "Decision Tree Model accuracy: 0.873\n",
      "Random Forest Model accuracy: 0.907\n",
      "Support Vector Machines (SVMs) Model accuracy: 0.717\n"
     ]
    }
   ],
   "source": [
    "print(f'Logistic Regression Model accuracy: {log_accuracy_round}')\n",
    "print(f'Logistic Regression Model accuracy after scaling: {after_scaling_round}')\n",
    "print(f'K-Nearest Neighbors (KNN) Model accuracy: {knn_accuracy_round}')\n",
    "print(f'Decision Tree Model accuracy: {decision_accuracy_round}')\n",
    "print(f'Random Forest Model accuracy: {rd_accuracy_round}')\n",
    "print(f'Support Vector Machines (SVMs) Model accuracy: {svc_accuracy_round}')"
   ]
  },
  {
   "cell_type": "markdown",
   "id": "a40c19f7-f533-4453-8460-0f4930f246a7",
   "metadata": {},
   "source": [
    "### **From the above summary, scaling the variables in the logistic regression increased the accuracy by 0.005 which is not really significant.**   \n",
    "### **Decision Tree would be preffered compared to Logistic regression since it has a higher accuracy.**  \n",
    "### **From these four models, Random Forest has the best accuracy (90% accurate).**  "
   ]
  },
  {
   "cell_type": "code",
   "execution_count": null,
   "id": "ce42f62f-f7cf-4f05-842e-c6986cca46ed",
   "metadata": {},
   "outputs": [],
   "source": []
  }
 ],
 "metadata": {
  "kernelspec": {
   "display_name": "Python 3 (ipykernel)",
   "language": "python",
   "name": "python3"
  },
  "language_info": {
   "codemirror_mode": {
    "name": "ipython",
    "version": 3
   },
   "file_extension": ".py",
   "mimetype": "text/x-python",
   "name": "python",
   "nbconvert_exporter": "python",
   "pygments_lexer": "ipython3",
   "version": "3.11.7"
  }
 },
 "nbformat": 4,
 "nbformat_minor": 5
}
